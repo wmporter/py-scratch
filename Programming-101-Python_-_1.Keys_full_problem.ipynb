{
 "cells": [
  {
   "cell_type": "code",
   "execution_count": 5,
   "metadata": {},
   "outputs": [],
   "source": [
    "data = \"\"\"8239b961379a4f9f854fd19d82b56dc9 24\n",
    "8239b961379a4f9f854fd19d82b56dc9 39\n",
    "8239b961379a4f9f854fd19d82b56dc9 39\n",
    "8239b961379a4f9f854fd19d82b56dc9 18\n",
    "8239b961379a4f9f854fd19d82b56dc9 25\n",
    "533cc20dc02647cb98c9cc534112e092 66\n",
    "533cc20dc02647cb98c9cc534112e092 12\"\"\""
   ]
  },
  {
   "cell_type": "code",
   "execution_count": 6,
   "metadata": {},
   "outputs": [],
   "source": [
    "datalines = data.split(\"\\n\")"
   ]
  },
  {
   "cell_type": "code",
   "execution_count": 7,
   "metadata": {},
   "outputs": [
    {
     "name": "stdout",
     "output_type": "stream",
     "text": [
      "['8239b961379a4f9f854fd19d82b56dc9 24', '8239b961379a4f9f854fd19d82b56dc9 39', '8239b961379a4f9f854fd19d82b56dc9 39', '8239b961379a4f9f854fd19d82b56dc9 18', '8239b961379a4f9f854fd19d82b56dc9 25', '533cc20dc02647cb98c9cc534112e092 66', '533cc20dc02647cb98c9cc534112e092 12']\n"
     ]
    }
   ],
   "source": [
    "print(datalines[::])"
   ]
  },
  {
   "cell_type": "code",
   "execution_count": 10,
   "metadata": {},
   "outputs": [],
   "source": [
    "add_data_to_dic = {}"
   ]
  },
  {
   "cell_type": "code",
   "execution_count": 23,
   "metadata": {},
   "outputs": [
    {
     "name": "stdout",
     "output_type": "stream",
     "text": [
      "{'8239b961379a4f9f854fd19d82b56dc9': 170, '533cc20dc02647cb98c9cc534112e092': 90}\n"
     ]
    }
   ],
   "source": [
    "for line in datalines:\n",
    "    new_key = line[:32]\n",
    "    new_value = line[33:]\n",
    "    new_value = int(new_value)\n",
    "    if new_key in add_data_to_dic == False:\n",
    "        add_data_to_dic[new_key] = new_value\n",
    "    else:\n",
    "        add_data_to_dic[new_key] += int(new_value)\n",
    "print(add_data_to_dic)"
   ]
  },
  {
   "cell_type": "code",
   "execution_count": null,
   "metadata": {},
   "outputs": [],
   "source": []
  },
  {
   "cell_type": "code",
   "execution_count": null,
   "metadata": {},
   "outputs": [],
   "source": []
  }
 ],
 "metadata": {
  "kernelspec": {
   "display_name": "Python 3",
   "language": "python",
   "name": "python3"
  },
  "language_info": {
   "codemirror_mode": {
    "name": "ipython",
    "version": 3
   },
   "file_extension": ".py",
   "mimetype": "text/x-python",
   "name": "python",
   "nbconvert_exporter": "python",
   "pygments_lexer": "ipython3",
   "version": "3.7.4"
  }
 },
 "nbformat": 4,
 "nbformat_minor": 2
}
